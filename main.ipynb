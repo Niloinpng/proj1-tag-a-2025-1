{
 "cells": [
  {
   "cell_type": "markdown",
   "id": "631d9bfd",
   "metadata": {},
   "source": [
    "Danilo Silveira da Silva: 222014142"
   ]
  },
  {
   "cell_type": "code",
   "execution_count": 5,
   "id": "1e5ee915",
   "metadata": {},
   "outputs": [
    {
     "name": "stdout",
     "output_type": "stream",
     "text": [
      "Collecting networkxNote: you may need to restart the kernel to use updated packages.\n",
      "\n",
      "  Downloading networkx-3.4.2-py3-none-any.whl.metadata (6.3 kB)\n",
      "Downloading networkx-3.4.2-py3-none-any.whl (1.7 MB)\n",
      "   ---------------------------------------- 0.0/1.7 MB ? eta -:--:--\n",
      "   ------------------------------------ --- 1.6/1.7 MB 16.6 MB/s eta 0:00:01\n",
      "   ---------------------------------------- 1.7/1.7 MB 11.7 MB/s eta 0:00:00\n",
      "Installing collected packages: networkx\n",
      "Successfully installed networkx-3.4.2\n"
     ]
    },
    {
     "name": "stderr",
     "output_type": "stream",
     "text": [
      "\n",
      "[notice] A new release of pip is available: 25.0.1 -> 25.1.1\n",
      "[notice] To update, run: python.exe -m pip install --upgrade pip\n"
     ]
    },
    {
     "name": "stdout",
     "output_type": "stream",
     "text": [
      "Collecting matplotlib\n",
      "  Downloading matplotlib-3.10.1-cp310-cp310-win_amd64.whl.metadata (11 kB)\n",
      "Collecting contourpy>=1.0.1 (from matplotlib)\n",
      "  Downloading contourpy-1.3.2-cp310-cp310-win_amd64.whl.metadata (5.5 kB)\n",
      "Collecting cycler>=0.10 (from matplotlib)\n",
      "  Downloading cycler-0.12.1-py3-none-any.whl.metadata (3.8 kB)\n",
      "Collecting fonttools>=4.22.0 (from matplotlib)\n",
      "  Downloading fonttools-4.57.0-cp310-cp310-win_amd64.whl.metadata (104 kB)\n",
      "Collecting kiwisolver>=1.3.1 (from matplotlib)\n",
      "  Downloading kiwisolver-1.4.8-cp310-cp310-win_amd64.whl.metadata (6.3 kB)\n",
      "Requirement already satisfied: numpy>=1.23 in c:\\users\\danilo\\appdata\\local\\programs\\python\\python310\\lib\\site-packages (from matplotlib) (1.25.2)\n",
      "Requirement already satisfied: packaging>=20.0 in c:\\users\\danilo\\appdata\\local\\programs\\python\\python310\\lib\\site-packages (from matplotlib) (24.2)\n",
      "Collecting pillow>=8 (from matplotlib)\n",
      "  Downloading pillow-11.2.1-cp310-cp310-win_amd64.whl.metadata (9.1 kB)\n",
      "Collecting pyparsing>=2.3.1 (from matplotlib)\n",
      "  Downloading pyparsing-3.2.3-py3-none-any.whl.metadata (5.0 kB)\n",
      "Requirement already satisfied: python-dateutil>=2.7 in c:\\users\\danilo\\appdata\\local\\programs\\python\\python310\\lib\\site-packages (from matplotlib) (2.8.2)\n",
      "Requirement already satisfied: six>=1.5 in c:\\users\\danilo\\appdata\\local\\programs\\python\\python310\\lib\\site-packages (from python-dateutil>=2.7->matplotlib) (1.17.0)\n",
      "Downloading matplotlib-3.10.1-cp310-cp310-win_amd64.whl (8.1 MB)\n",
      "   ---------------------------------------- 0.0/8.1 MB ? eta -:--:--\n",
      "   ------------------- -------------------- 3.9/8.1 MB 21.3 MB/s eta 0:00:01\n",
      "   ---------------------------------------- 8.1/8.1 MB 24.9 MB/s eta 0:00:00\n",
      "Downloading contourpy-1.3.2-cp310-cp310-win_amd64.whl (221 kB)\n",
      "Downloading cycler-0.12.1-py3-none-any.whl (8.3 kB)\n",
      "Downloading fonttools-4.57.0-cp310-cp310-win_amd64.whl (2.2 MB)\n",
      "   ---------------------------------------- 0.0/2.2 MB ? eta -:--:--\n",
      "   ---------------------------------------- 2.2/2.2 MB 41.3 MB/s eta 0:00:00\n",
      "Downloading kiwisolver-1.4.8-cp310-cp310-win_amd64.whl (71 kB)\n",
      "Downloading pillow-11.2.1-cp310-cp310-win_amd64.whl (2.7 MB)\n",
      "   ---------------------------------------- 0.0/2.7 MB ? eta -:--:--\n",
      "   ---------------------------------------- 2.7/2.7 MB 38.9 MB/s eta 0:00:00\n",
      "Downloading pyparsing-3.2.3-py3-none-any.whl (111 kB)\n",
      "Installing collected packages: pyparsing, pillow, kiwisolver, fonttools, cycler, contourpy, matplotlib\n",
      "Successfully installed contourpy-1.3.2 cycler-0.12.1 fonttools-4.57.0 kiwisolver-1.4.8 matplotlib-3.10.1 pillow-11.2.1 pyparsing-3.2.3\n",
      "Note: you may need to restart the kernel to use updated packages.\n"
     ]
    },
    {
     "name": "stderr",
     "output_type": "stream",
     "text": [
      "\n",
      "[notice] A new release of pip is available: 25.0.1 -> 25.1.1\n",
      "[notice] To update, run: python.exe -m pip install --upgrade pip\n"
     ]
    }
   ],
   "source": [
    "# Install required libraries if not already installed\n",
    "%pip install networkx\n",
    "%pip install matplotlib"
   ]
  },
  {
   "cell_type": "code",
   "execution_count": null,
   "id": "62805f5c",
   "metadata": {},
   "outputs": [
    {
     "ename": "IndentationError",
     "evalue": "expected an indented block after 'for' statement on line 8 (3421313632.py, line 8)",
     "output_type": "error",
     "traceback": [
      "\u001b[1;36m  Cell \u001b[1;32mIn[4], line 8\u001b[1;36m\u001b[0m\n\u001b[1;33m    for _, row in df.iterrows():\u001b[0m\n\u001b[1;37m                                 ^\u001b[0m\n\u001b[1;31mIndentationError\u001b[0m\u001b[1;31m:\u001b[0m expected an indented block after 'for' statement on line 8\n"
     ]
    }
   ],
   "source": [
    "import networkx as nx\n",
    "import pandas as pd\n",
    "import matplotlib.pyplot as plt\n",
    "# Load dataset (example format: user1, user2, weight)\n",
    "df = pd.read_csv('twitter_network.csv')\n",
    "# Create a directed graph\n",
    "G = nx.DiGraph()\n",
    "for _, row in df.iterrows(): \n",
    "    G.add_edge(row['user1'], row['user2'], weight=row['weight'])\n",
    "# Compute PageRank\n",
    "pagerank = nx.pagerank(G, alpha=0.85)\n",
    "# Detect communities\n",
    "from networkx.algorithms.community import greedy_modularity_communities\n",
    "communities = greedy_modularity_communities(G)\n",
    "# Draw Graph\n",
    "plt.figure(figsize=(10, 7))\n",
    "nx.draw(G, with_labels=False, node_size=20)\n",
    "plt.show()\n"
   ]
  },
  {
   "cell_type": "code",
   "execution_count": 1,
   "id": "5f243ca7",
   "metadata": {},
   "outputs": [
    {
     "name": "stdout",
     "output_type": "stream",
     "text": [
      "Grafo criado com sucesso!\n",
      "Número de nós: 81306\n",
      "Número de arestas: 1768149\n",
      "Arquivo salvo como: grafo_interacoes.gexf\n"
     ]
    }
   ],
   "source": [
    "import os\n",
    "from collections import defaultdict\n",
    "import networkx as nx\n",
    "\n",
    "def criar_grafo_interacoes():\n",
    "    caminho = 'SNAP/Twitter'\n",
    "    contador_arestas = defaultdict(int)\n",
    "    \n",
    "    arquivos_edges = [os.path.join(caminho, arq) \n",
    "                     for arq in os.listdir(caminho) \n",
    "                     if arq.endswith('.edges')]\n",
    "    arquivos_edges.append(os.path.join('SNAP', 'twitter_combined.txt'))\n",
    "    \n",
    "    for caminho_arquivo in arquivos_edges:\n",
    "        try:\n",
    "            with open(caminho_arquivo, 'r') as arquivo:\n",
    "                for linha in arquivo:\n",
    "                    linha = linha.strip()\n",
    "                    if not linha:\n",
    "                        continue\n",
    "                    \n",
    "                    nos = linha.split()\n",
    "                    if len(nos) != 2:\n",
    "                        continue\n",
    "                    \n",
    "                    origem, destino = nos\n",
    "                    contador_arestas[(origem, destino)] += 1\n",
    "        except FileNotFoundError:\n",
    "            print(f\"Arquivo não encontrado: {caminho_arquivo}\")\n",
    "            continue\n",
    "    \n",
    "    G = nx.DiGraph()\n",
    "    for (origem, destino), peso in contador_arestas.items():\n",
    "        G.add_edge(origem, destino, weight=peso)\n",
    "    \n",
    "    return G\n",
    "\n",
    "saida = 'grafo_interacoes.gexf'\n",
    "\n",
    "grafo = criar_grafo_interacoes()\n",
    "\n",
    "nx.write_gexf(grafo, saida)\n",
    "\n",
    "print(f\"Grafo criado com sucesso!\")\n",
    "print(f\"Número de nós: {len(grafo.nodes())}\")\n",
    "print(f\"Número de arestas: {len(grafo.edges())}\")\n",
    "print(f\"Arquivo salvo como: {saida}\")"
   ]
  },
  {
   "cell_type": "code",
   "execution_count": 2,
   "id": "7812685c",
   "metadata": {},
   "outputs": [
    {
     "name": "stdout",
     "output_type": "stream",
     "text": [
      "Subgrafo com 195 nós e 7201 arestas salvo como 'alvo_subgrafo.gexf'.\n"
     ]
    }
   ],
   "source": [
    "import networkx as nx\n",
    "\n",
    "arquivo_subgrafo = \"alvo_subgrafo.gexf\"\n",
    "arquivo = \"grafo_interacoes.gexf\"\n",
    "alvo = \"158419434\"\n",
    "\n",
    "try:\n",
    "    G = nx.read_gexf(arquivo)\n",
    "\n",
    "    if alvo in G:\n",
    "        vizinhos = list(G.neighbors(alvo))\n",
    "        subgrafo = G.subgraph(vizinhos)\n",
    "        nx.write_gexf(subgrafo, arquivo_subgrafo)\n",
    "        print(f\"Subgrafo com {subgrafo.number_of_nodes()} nós e {subgrafo.number_of_edges()} arestas salvo como '{arquivo_subgrafo}'.\")\n",
    "\n",
    "    else:\n",
    "        print(f\"O nó '{alvo}' não existe no grafo.\")\n",
    "\n",
    "except Exception as e:\n",
    "    print(f\"Erro ao processar o grafo: {e}\")"
   ]
  }
 ],
 "metadata": {
  "kernelspec": {
   "display_name": "Python 3",
   "language": "python",
   "name": "python3"
  },
  "language_info": {
   "codemirror_mode": {
    "name": "ipython",
    "version": 3
   },
   "file_extension": ".py",
   "mimetype": "text/x-python",
   "name": "python",
   "nbconvert_exporter": "python",
   "pygments_lexer": "ipython3",
   "version": "3.10.2"
  }
 },
 "nbformat": 4,
 "nbformat_minor": 5
}
