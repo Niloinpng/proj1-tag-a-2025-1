{
 "cells": [
  {
   "cell_type": "markdown",
   "id": "631d9bfd",
   "metadata": {},
   "source": [
    "**Projeto 1**\n",
    "Teoria e Aplicação de Grafos, Turma 01, 2025/1\n",
    "\n",
    "Participantes:\n",
    "- Danilo Silveira da Silva: 222014142\n",
    "- "
   ]
  },
  {
   "cell_type": "code",
   "execution_count": 3,
   "id": "92b34840",
   "metadata": {},
   "outputs": [
    {
     "name": "stdout",
     "output_type": "stream",
     "text": [
      "Note: you may need to restart the kernel to use updated packages.Requirement already satisfied: networkx in c:\\users\\danilo\\appdata\\local\\programs\\python\\python310\\lib\\site-packages (3.4.2)\n",
      "\n"
     ]
    },
    {
     "name": "stderr",
     "output_type": "stream",
     "text": [
      "\n",
      "[notice] A new release of pip is available: 25.0.1 -> 25.1.1\n",
      "[notice] To update, run: python.exe -m pip install --upgrade pip\n"
     ]
    },
    {
     "name": "stdout",
     "output_type": "stream",
     "text": [
      "Requirement already satisfied: matplotlib in c:\\users\\danilo\\appdata\\local\\programs\\python\\python310\\lib\\site-packages (3.10.1)\n",
      "Requirement already satisfied: contourpy>=1.0.1 in c:\\users\\danilo\\appdata\\local\\programs\\python\\python310\\lib\\site-packages (from matplotlib) (1.3.2)\n",
      "Requirement already satisfied: cycler>=0.10 in c:\\users\\danilo\\appdata\\local\\programs\\python\\python310\\lib\\site-packages (from matplotlib) (0.12.1)\n",
      "Requirement already satisfied: fonttools>=4.22.0 in c:\\users\\danilo\\appdata\\local\\programs\\python\\python310\\lib\\site-packages (from matplotlib) (4.57.0)\n",
      "Requirement already satisfied: kiwisolver>=1.3.1 in c:\\users\\danilo\\appdata\\local\\programs\\python\\python310\\lib\\site-packages (from matplotlib) (1.4.8)\n",
      "Requirement already satisfied: numpy>=1.23 in c:\\users\\danilo\\appdata\\local\\programs\\python\\python310\\lib\\site-packages (from matplotlib) (1.25.2)\n",
      "Requirement already satisfied: packaging>=20.0 in c:\\users\\danilo\\appdata\\local\\programs\\python\\python310\\lib\\site-packages (from matplotlib) (24.2)\n",
      "Requirement already satisfied: pillow>=8 in c:\\users\\danilo\\appdata\\local\\programs\\python\\python310\\lib\\site-packages (from matplotlib) (11.2.1)\n",
      "Requirement already satisfied: pyparsing>=2.3.1 in c:\\users\\danilo\\appdata\\local\\programs\\python\\python310\\lib\\site-packages (from matplotlib) (3.2.3)\n",
      "Requirement already satisfied: python-dateutil>=2.7 in c:\\users\\danilo\\appdata\\local\\programs\\python\\python310\\lib\\site-packages (from matplotlib) (2.8.2)\n",
      "Requirement already satisfied: six>=1.5 in c:\\users\\danilo\\appdata\\local\\programs\\python\\python310\\lib\\site-packages (from python-dateutil>=2.7->matplotlib) (1.17.0)\n",
      "Note: you may need to restart the kernel to use updated packages.\n"
     ]
    },
    {
     "name": "stderr",
     "output_type": "stream",
     "text": [
      "\n",
      "[notice] A new release of pip is available: 25.0.1 -> 25.1.1\n",
      "[notice] To update, run: python.exe -m pip install --upgrade pip\n"
     ]
    }
   ],
   "source": [
    "# Instalndo as bibliotecas necessárias para rodar o projeto\n",
    "%pip install networkx\n",
    "%pip install matplotlib\n",
    "\n",
    "# Importações do projeto\n",
    "import os\n",
    "from collections import defaultdict\n",
    "import networkx as nx"
   ]
  },
  {
   "cell_type": "code",
   "execution_count": 4,
   "id": "5e273cc0",
   "metadata": {},
   "outputs": [
    {
     "name": "stdout",
     "output_type": "stream",
     "text": [
      "Grafo criado com sucesso!\n",
      "Número de nós: 81306\n",
      "Número de arestas: 1768149\n",
      "Arquivo salvo como: grafo_interacoes.gexf\n"
     ]
    }
   ],
   "source": [
    "def criar_grafo_interacoes():\n",
    "    \"\"\"\n",
    "    Função que cria um grafo direcionado a partir dos dados de interações no Twitter,\n",
    "    onde os usuários são nós e as interações (retweets/menções) são as arestas.\n",
    "    \"\"\"\n",
    "    caminho = 'SNAP/Twitter'  # Caminho onde estão os arquivos de dados\n",
    "    contador_arestas = defaultdict(int)  # Contador de arestas (interações)\n",
    "\n",
    "    # Obter todos os arquivos com extensão .edges e o arquivo twitter_combined.txt\n",
    "    arquivos_edges = [os.path.join(caminho, arq) \n",
    "                     for arq in os.listdir(caminho) \n",
    "                     if arq.endswith('.edges')]\n",
    "    arquivos_edges.append(os.path.join('SNAP', 'twitter_combined.txt'))\n",
    "\n",
    "    # Ler os arquivos e processar as interações\n",
    "    for caminho_arquivo in arquivos_edges:\n",
    "        try:\n",
    "            with open(caminho_arquivo, 'r') as arquivo:\n",
    "                for linha in arquivo:\n",
    "                    linha = linha.strip()\n",
    "                    if not linha:\n",
    "                        continue\n",
    "                    \n",
    "                    nos = linha.split()  # Dividir cada linha em dois nós\n",
    "                    if len(nos) != 2:\n",
    "                        continue\n",
    "                    \n",
    "                    origem, destino = nos  # Definir os nós origem e destino\n",
    "                    contador_arestas[(origem, destino)] += 1  # Contar as interações\n",
    "        except FileNotFoundError:\n",
    "            print(f\"Arquivo não encontrado: {caminho_arquivo}\")\n",
    "            continue\n",
    "    \n",
    "    # Criar o grafo direcionado\n",
    "    G = nx.DiGraph()\n",
    "    for (origem, destino), peso in contador_arestas.items():\n",
    "        G.add_edge(origem, destino, weight=peso)  # Adicionar as arestas com peso\n",
    "    \n",
    "    return G\n",
    "\n",
    "# Caminho para salvar o grafo\n",
    "saida = 'grafo_interacoes.gexf'\n",
    "\n",
    "# Criar o grafo\n",
    "grafo = criar_grafo_interacoes()\n",
    "\n",
    "# Salvar o grafo no formato GEXF\n",
    "nx.write_gexf(grafo, saida)\n",
    "\n",
    "# Imprimir informações sobre o grafo criado\n",
    "print(f\"Grafo criado com sucesso!\")\n",
    "print(f\"Número de nós: {len(grafo.nodes())}\")\n",
    "print(f\"Número de arestas: {len(grafo.edges())}\")\n",
    "print(f\"Arquivo salvo como: {saida}\")"
   ]
  },
  {
   "cell_type": "code",
   "execution_count": 5,
   "id": "53c24419",
   "metadata": {},
   "outputs": [
    {
     "name": "stdout",
     "output_type": "stream",
     "text": [
      "Subgrafo com 195 nós e 7201 arestas salvo como 'alvo_subgrafo.gexf'.\n"
     ]
    }
   ],
   "source": [
    "def extrair_subgrafo_por_no(arquivo_grafo, alvo, arquivo_subgrafo):\n",
    "    \"\"\"\n",
    "    Extrai um subgrafo de um grafo carregado a partir de um arquivo GEXF, \n",
    "    contendo o nó alvo e seus vizinhos diretos. O subgrafo é salvo em um novo arquivo GEXF.\n",
    "    \n",
    "    Parâmetros:\n",
    "    arquivo_grafo (str): Caminho do arquivo GEXF que contém o grafo principal.\n",
    "    alvo (str): Identificador do nó alvo do qual se deseja extrair o subgrafo.\n",
    "    arquivo_subgrafo (str): Caminho do arquivo GEXF onde o subgrafo será salvo.\n",
    "    \n",
    "    Retorna:\n",
    "    None: Salva o subgrafo em um arquivo GEXF e imprime o número de nós e arestas.\n",
    "    \"\"\"\n",
    "    try:\n",
    "        # Carregar o grafo do arquivo GEXF\n",
    "        G = nx.read_gexf(arquivo_grafo)\n",
    "\n",
    "        # Verificar se o nó alvo existe no grafo\n",
    "        if alvo in G:\n",
    "            # Obter os vizinhos do nó alvo\n",
    "            vizinhos = list(G.neighbors(alvo))\n",
    "            # Criar o subgrafo com os vizinhos\n",
    "            subgrafo = G.subgraph(vizinhos)\n",
    "            # Salvar o subgrafo em um novo arquivo GEXF\n",
    "            nx.write_gexf(subgrafo, arquivo_subgrafo)\n",
    "            print(f\"Subgrafo com {subgrafo.number_of_nodes()} nós e {subgrafo.number_of_edges()} arestas salvo como '{arquivo_subgrafo}'.\")\n",
    "\n",
    "        else:\n",
    "            print(f\"O nó '{alvo}' não existe no grafo.\")\n",
    "\n",
    "    except Exception as e:\n",
    "        print(f\"Erro ao processar o grafo: {e}\")\n",
    "\n",
    "extrair_subgrafo_por_no(\"grafo_interacoes.gexf\", \"158419434\", \"alvo_subgrafo.gexf\")"
   ]
  }
 ],
 "metadata": {
  "kernelspec": {
   "display_name": "Python 3",
   "language": "python",
   "name": "python3"
  },
  "language_info": {
   "codemirror_mode": {
    "name": "ipython",
    "version": 3
   },
   "file_extension": ".py",
   "mimetype": "text/x-python",
   "name": "python",
   "nbconvert_exporter": "python",
   "pygments_lexer": "ipython3",
   "version": "3.10.2"
  }
 },
 "nbformat": 4,
 "nbformat_minor": 5
}
